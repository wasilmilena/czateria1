git add nazwa_pliku.ipynb
git commit -m "Naprawiono plik notebooka"
git push

